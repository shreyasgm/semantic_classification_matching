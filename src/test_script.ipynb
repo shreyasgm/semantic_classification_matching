{
 "cells": [
  {
   "cell_type": "code",
   "execution_count": 1,
   "metadata": {},
   "outputs": [],
   "source": [
    "%reload_ext autoreload\n",
    "%autoreload 2"
   ]
  },
  {
   "cell_type": "code",
   "execution_count": 2,
   "metadata": {},
   "outputs": [],
   "source": [
    "import os\n",
    "import re\n",
    "import sys\n",
    "from pathlib import Path\n",
    "\n",
    "import fasttext as ft\n",
    "import nltk\n",
    "import numpy as np\n",
    "import pandas as pd\n",
    "from tqdm import tqdm"
   ]
  },
  {
   "cell_type": "code",
   "execution_count": 3,
   "metadata": {},
   "outputs": [],
   "source": [
    "PROJ = Path(os.path.realpath(\".\"))\n",
    "ROOT = PROJ.parent\n",
    "DATA = ROOT / \"data\""
   ]
  },
  {
   "cell_type": "code",
   "execution_count": 4,
   "metadata": {},
   "outputs": [],
   "source": [
    "sys.path.append(str(ROOT / \"src\"))"
   ]
  },
  {
   "cell_type": "code",
   "execution_count": 5,
   "metadata": {},
   "outputs": [],
   "source": [
    "from get_closest_match import prepare_data_and_embeddings, process_data_and_match"
   ]
  },
  {
   "cell_type": "markdown",
   "metadata": {},
   "source": [
    "# Read data"
   ]
  },
  {
   "cell_type": "code",
   "execution_count": 6,
   "metadata": {},
   "outputs": [
    {
     "data": {
      "text/html": [
       "<div>\n",
       "<style scoped>\n",
       "    .dataframe tbody tr th:only-of-type {\n",
       "        vertical-align: middle;\n",
       "    }\n",
       "\n",
       "    .dataframe tbody tr th {\n",
       "        vertical-align: top;\n",
       "    }\n",
       "\n",
       "    .dataframe thead th {\n",
       "        text-align: right;\n",
       "    }\n",
       "</style>\n",
       "<table border=\"1\" class=\"dataframe\">\n",
       "  <thead>\n",
       "    <tr style=\"text-align: right;\">\n",
       "      <th></th>\n",
       "      <th>clas_a_title</th>\n",
       "    </tr>\n",
       "  </thead>\n",
       "  <tbody>\n",
       "    <tr>\n",
       "      <th>0</th>\n",
       "      <td>Business Support Services</td>\n",
       "    </tr>\n",
       "    <tr>\n",
       "      <th>1</th>\n",
       "      <td>Fishing</td>\n",
       "    </tr>\n",
       "    <tr>\n",
       "      <th>2</th>\n",
       "      <td>Agriculture Employment</td>\n",
       "    </tr>\n",
       "    <tr>\n",
       "      <th>3</th>\n",
       "      <td>Animal production</td>\n",
       "    </tr>\n",
       "    <tr>\n",
       "      <th>4</th>\n",
       "      <td>Support activities of Mining</td>\n",
       "    </tr>\n",
       "  </tbody>\n",
       "</table>\n",
       "</div>"
      ],
      "text/plain": [
       "                   clas_a_title\n",
       "0     Business Support Services\n",
       "1                       Fishing\n",
       "2        Agriculture Employment\n",
       "3             Animal production\n",
       "4  Support activities of Mining"
      ]
     },
     "execution_count": 6,
     "metadata": {},
     "output_type": "execute_result"
    }
   ],
   "source": [
    "# Classification A\n",
    "clas_a_df = pd.read_csv(DATA / \"processed/clas_a.csv\")\n",
    "clas_a_df = clas_a_df.drop(columns=\"clas_a_code\")\n",
    "clas_a_df.head()"
   ]
  },
  {
   "cell_type": "code",
   "execution_count": 7,
   "metadata": {},
   "outputs": [
    {
     "data": {
      "text/html": [
       "<div>\n",
       "<style scoped>\n",
       "    .dataframe tbody tr th:only-of-type {\n",
       "        vertical-align: middle;\n",
       "    }\n",
       "\n",
       "    .dataframe tbody tr th {\n",
       "        vertical-align: top;\n",
       "    }\n",
       "\n",
       "    .dataframe thead th {\n",
       "        text-align: right;\n",
       "    }\n",
       "</style>\n",
       "<table border=\"1\" class=\"dataframe\">\n",
       "  <thead>\n",
       "    <tr style=\"text-align: right;\">\n",
       "      <th></th>\n",
       "      <th>clas_b_code</th>\n",
       "      <th>clas_b_title</th>\n",
       "      <th>clas_b_type</th>\n",
       "    </tr>\n",
       "  </thead>\n",
       "  <tbody>\n",
       "    <tr>\n",
       "      <th>0</th>\n",
       "      <td>HS2_1</td>\n",
       "      <td>Live animals</td>\n",
       "      <td>HS2</td>\n",
       "    </tr>\n",
       "    <tr>\n",
       "      <th>1</th>\n",
       "      <td>HS2_2</td>\n",
       "      <td>Meat</td>\n",
       "      <td>HS2</td>\n",
       "    </tr>\n",
       "    <tr>\n",
       "      <th>2</th>\n",
       "      <td>HS2_3</td>\n",
       "      <td>Fish</td>\n",
       "      <td>HS2</td>\n",
       "    </tr>\n",
       "    <tr>\n",
       "      <th>3</th>\n",
       "      <td>HS2_4</td>\n",
       "      <td>Diary products</td>\n",
       "      <td>HS2</td>\n",
       "    </tr>\n",
       "    <tr>\n",
       "      <th>4</th>\n",
       "      <td>HS2_5</td>\n",
       "      <td>Animal products</td>\n",
       "      <td>HS2</td>\n",
       "    </tr>\n",
       "  </tbody>\n",
       "</table>\n",
       "</div>"
      ],
      "text/plain": [
       "  clas_b_code     clas_b_title clas_b_type\n",
       "0       HS2_1     Live animals         HS2\n",
       "1       HS2_2             Meat         HS2\n",
       "2       HS2_3             Fish         HS2\n",
       "3       HS2_4   Diary products         HS2\n",
       "4       HS2_5  Animal products         HS2"
      ]
     },
     "execution_count": 7,
     "metadata": {},
     "output_type": "execute_result"
    }
   ],
   "source": [
    "# Classification B\n",
    "sheets = [\"HS2\", \"HS4\", \"NAICS2\", \"NAICS4\"]\n",
    "\n",
    "clas_b_df = pd.DataFrame()\n",
    "for sheet in sheets:\n",
    "    clas_b_df_sheet = pd.read_excel(\n",
    "        DATA / \"raw/codes.xlsx\", sheet_name=sheet, dtype=str\n",
    "    )\n",
    "    clas_b_df_sheet.columns = [\"clas_b_code\", \"clas_b_title\"]\n",
    "    clas_b_df_sheet[\"clas_b_type\"] = sheet\n",
    "    clas_b_df = clas_b_df.append(clas_b_df_sheet)\n",
    "clas_b_df[\"clas_b_code\"] = clas_b_df[\"clas_b_type\"] + \"_\" + clas_b_df[\"clas_b_code\"]\n",
    "clas_b_df.head()"
   ]
  },
  {
   "cell_type": "markdown",
   "metadata": {},
   "source": [
    "# Test"
   ]
  },
  {
   "cell_type": "code",
   "execution_count": 8,
   "metadata": {},
   "outputs": [
    {
     "name": "stdout",
     "output_type": "stream",
     "text": [
      "Pre-processing text\n"
     ]
    },
    {
     "name": "stderr",
     "output_type": "stream",
     "text": [
      "  0%|          | 0/186 [00:00<?, ?it/s]"
     ]
    },
    {
     "name": "stdout",
     "output_type": "stream",
     "text": [
      "Preparing embeddings\n"
     ]
    },
    {
     "name": "stderr",
     "output_type": "stream",
     "text": [
      "100%|██████████| 186/186 [00:01<00:00, 169.64it/s]\n",
      "100%|██████████| 186/186 [00:00<00:00, 6742.21it/s]\n",
      "100%|██████████| 1678/1678 [00:00<00:00, 49218.80it/s]\n",
      "100%|██████████| 1678/1678 [00:00<00:00, 13273.01it/s]\n"
     ]
    }
   ],
   "source": [
    "result_dict = process_data_and_match(\n",
    "    clas_a_df,\n",
    "    clas_b_df,\n",
    "    titlecol_a=\"clas_a_title\",\n",
    "    titlecol_b=\"clas_b_title\",\n",
    "    codecol_b=\"clas_b_code\",\n",
    "    n_best = 5\n",
    ")"
   ]
  },
  {
   "cell_type": "code",
   "execution_count": 9,
   "metadata": {},
   "outputs": [
    {
     "data": {
      "text/html": [
       "<div>\n",
       "<style scoped>\n",
       "    .dataframe tbody tr th:only-of-type {\n",
       "        vertical-align: middle;\n",
       "    }\n",
       "\n",
       "    .dataframe tbody tr th {\n",
       "        vertical-align: top;\n",
       "    }\n",
       "\n",
       "    .dataframe thead th {\n",
       "        text-align: right;\n",
       "    }\n",
       "</style>\n",
       "<table border=\"1\" class=\"dataframe\">\n",
       "  <thead>\n",
       "    <tr style=\"text-align: right;\">\n",
       "      <th></th>\n",
       "      <th></th>\n",
       "      <th>top1</th>\n",
       "      <th>top2</th>\n",
       "      <th>top3</th>\n",
       "      <th>top4</th>\n",
       "      <th>top5</th>\n",
       "    </tr>\n",
       "    <tr>\n",
       "      <th>clas_a_title</th>\n",
       "      <th>codecol</th>\n",
       "      <th></th>\n",
       "      <th></th>\n",
       "      <th></th>\n",
       "      <th></th>\n",
       "      <th></th>\n",
       "    </tr>\n",
       "  </thead>\n",
       "  <tbody>\n",
       "    <tr>\n",
       "      <th>Business Support Services</th>\n",
       "      <th>a0</th>\n",
       "      <td>Business Support Services</td>\n",
       "      <td>Other Support Services</td>\n",
       "      <td>Educational Support Services</td>\n",
       "      <td>Facilities Support Services</td>\n",
       "      <td>Other Information Services</td>\n",
       "    </tr>\n",
       "    <tr>\n",
       "      <th>Fishing</th>\n",
       "      <th>a1</th>\n",
       "      <td>Fishing</td>\n",
       "      <td>Fishing and hunting equipment</td>\n",
       "      <td>Agriculture, Forestry, Fishing and Hunting</td>\n",
       "      <td>Fishing vessels</td>\n",
       "      <td>Fish</td>\n",
       "    </tr>\n",
       "    <tr>\n",
       "      <th>Agriculture Employment</th>\n",
       "      <th>a2</th>\n",
       "      <td>Agriculture, Construction, and Mining Machiner...</td>\n",
       "      <td>Hog and Pig Farming</td>\n",
       "      <td>Employment Services</td>\n",
       "      <td>Agriculture, Forestry, Fishing and Hunting</td>\n",
       "      <td>Other agricultural machinery</td>\n",
       "    </tr>\n",
       "    <tr>\n",
       "      <th>Animal production</th>\n",
       "      <th>a3</th>\n",
       "      <td>Other Animal Production</td>\n",
       "      <td>Other animal fats and oils</td>\n",
       "      <td>Animal products n.e.c.</td>\n",
       "      <td>Animal products</td>\n",
       "      <td>Animal or vegetable fats, oils or waxes</td>\n",
       "    </tr>\n",
       "    <tr>\n",
       "      <th>Support activities of Mining</th>\n",
       "      <th>a4</th>\n",
       "      <td>Support Activities for Mining</td>\n",
       "      <td>Mining, Quarrying, and Oil and Gas Extraction</td>\n",
       "      <td>Support Activities for Forestry</td>\n",
       "      <td>Agriculture, Construction, and Mining Machiner...</td>\n",
       "      <td>Other Support Activities for Transportation</td>\n",
       "    </tr>\n",
       "  </tbody>\n",
       "</table>\n",
       "</div>"
      ],
      "text/plain": [
       "                                                                                   top1  \\\n",
       "clas_a_title                 codecol                                                      \n",
       "Business Support Services    a0                               Business Support Services   \n",
       "Fishing                      a1                                                 Fishing   \n",
       "Agriculture Employment       a2       Agriculture, Construction, and Mining Machiner...   \n",
       "Animal production            a3                                 Other Animal Production   \n",
       "Support activities of Mining a4                           Support Activities for Mining   \n",
       "\n",
       "                                                                               top2  \\\n",
       "clas_a_title                 codecol                                                  \n",
       "Business Support Services    a0                              Other Support Services   \n",
       "Fishing                      a1                       Fishing and hunting equipment   \n",
       "Agriculture Employment       a2                                 Hog and Pig Farming   \n",
       "Animal production            a3                          Other animal fats and oils   \n",
       "Support activities of Mining a4       Mining, Quarrying, and Oil and Gas Extraction   \n",
       "\n",
       "                                                                            top3  \\\n",
       "clas_a_title                 codecol                                               \n",
       "Business Support Services    a0                     Educational Support Services   \n",
       "Fishing                      a1       Agriculture, Forestry, Fishing and Hunting   \n",
       "Agriculture Employment       a2                              Employment Services   \n",
       "Animal production            a3                           Animal products n.e.c.   \n",
       "Support activities of Mining a4                  Support Activities for Forestry   \n",
       "\n",
       "                                                                                   top4  \\\n",
       "clas_a_title                 codecol                                                      \n",
       "Business Support Services    a0                             Facilities Support Services   \n",
       "Fishing                      a1                                         Fishing vessels   \n",
       "Agriculture Employment       a2              Agriculture, Forestry, Fishing and Hunting   \n",
       "Animal production            a3                                         Animal products   \n",
       "Support activities of Mining a4       Agriculture, Construction, and Mining Machiner...   \n",
       "\n",
       "                                                                             top5  \n",
       "clas_a_title                 codecol                                               \n",
       "Business Support Services    a0                        Other Information Services  \n",
       "Fishing                      a1                                              Fish  \n",
       "Agriculture Employment       a2                      Other agricultural machinery  \n",
       "Animal production            a3           Animal or vegetable fats, oils or waxes  \n",
       "Support activities of Mining a4       Other Support Activities for Transportation  "
      ]
     },
     "execution_count": 9,
     "metadata": {},
     "output_type": "execute_result"
    }
   ],
   "source": [
    "result_dict[\"names\"].head()"
   ]
  },
  {
   "cell_type": "code",
   "execution_count": 10,
   "metadata": {},
   "outputs": [
    {
     "data": {
      "text/html": [
       "<div>\n",
       "<style scoped>\n",
       "    .dataframe tbody tr th:only-of-type {\n",
       "        vertical-align: middle;\n",
       "    }\n",
       "\n",
       "    .dataframe tbody tr th {\n",
       "        vertical-align: top;\n",
       "    }\n",
       "\n",
       "    .dataframe thead th {\n",
       "        text-align: right;\n",
       "    }\n",
       "</style>\n",
       "<table border=\"1\" class=\"dataframe\">\n",
       "  <thead>\n",
       "    <tr style=\"text-align: right;\">\n",
       "      <th></th>\n",
       "      <th></th>\n",
       "      <th>top1</th>\n",
       "      <th>top2</th>\n",
       "      <th>top3</th>\n",
       "      <th>top4</th>\n",
       "      <th>top5</th>\n",
       "    </tr>\n",
       "    <tr>\n",
       "      <th>clas_a_title</th>\n",
       "      <th>codecol</th>\n",
       "      <th></th>\n",
       "      <th></th>\n",
       "      <th></th>\n",
       "      <th></th>\n",
       "      <th></th>\n",
       "    </tr>\n",
       "  </thead>\n",
       "  <tbody>\n",
       "    <tr>\n",
       "      <th>Business Support Services</th>\n",
       "      <th>a0</th>\n",
       "      <td>1.000000</td>\n",
       "      <td>0.919244</td>\n",
       "      <td>0.889297</td>\n",
       "      <td>0.863508</td>\n",
       "      <td>0.788597</td>\n",
       "    </tr>\n",
       "    <tr>\n",
       "      <th>Fishing</th>\n",
       "      <th>a1</th>\n",
       "      <td>1.000000</td>\n",
       "      <td>0.858864</td>\n",
       "      <td>0.810416</td>\n",
       "      <td>0.789181</td>\n",
       "      <td>0.639044</td>\n",
       "    </tr>\n",
       "    <tr>\n",
       "      <th>Agriculture Employment</th>\n",
       "      <th>a2</th>\n",
       "      <td>0.660291</td>\n",
       "      <td>0.638609</td>\n",
       "      <td>0.638341</td>\n",
       "      <td>0.635391</td>\n",
       "      <td>0.623924</td>\n",
       "    </tr>\n",
       "    <tr>\n",
       "      <th>Animal production</th>\n",
       "      <th>a3</th>\n",
       "      <td>1.000000</td>\n",
       "      <td>0.922842</td>\n",
       "      <td>0.874221</td>\n",
       "      <td>0.874221</td>\n",
       "      <td>0.862017</td>\n",
       "    </tr>\n",
       "    <tr>\n",
       "      <th>Support activities of Mining</th>\n",
       "      <th>a4</th>\n",
       "      <td>1.000000</td>\n",
       "      <td>0.785229</td>\n",
       "      <td>0.776676</td>\n",
       "      <td>0.760678</td>\n",
       "      <td>0.756821</td>\n",
       "    </tr>\n",
       "  </tbody>\n",
       "</table>\n",
       "</div>"
      ],
      "text/plain": [
       "                                          top1      top2      top3      top4  \\\n",
       "clas_a_title                 codecol                                           \n",
       "Business Support Services    a0       1.000000  0.919244  0.889297  0.863508   \n",
       "Fishing                      a1       1.000000  0.858864  0.810416  0.789181   \n",
       "Agriculture Employment       a2       0.660291  0.638609  0.638341  0.635391   \n",
       "Animal production            a3       1.000000  0.922842  0.874221  0.874221   \n",
       "Support activities of Mining a4       1.000000  0.785229  0.776676  0.760678   \n",
       "\n",
       "                                          top5  \n",
       "clas_a_title                 codecol            \n",
       "Business Support Services    a0       0.788597  \n",
       "Fishing                      a1       0.639044  \n",
       "Agriculture Employment       a2       0.623924  \n",
       "Animal production            a3       0.862017  \n",
       "Support activities of Mining a4       0.756821  "
      ]
     },
     "execution_count": 10,
     "metadata": {},
     "output_type": "execute_result"
    }
   ],
   "source": [
    "result_dict[\"scores\"].head()"
   ]
  },
  {
   "cell_type": "code",
   "execution_count": null,
   "metadata": {},
   "outputs": [],
   "source": []
  }
 ],
 "metadata": {
  "kernelspec": {
   "display_name": "Python 3",
   "language": "python",
   "name": "python3"
  },
  "language_info": {
   "codemirror_mode": {
    "name": "ipython",
    "version": 3
   },
   "file_extension": ".py",
   "mimetype": "text/x-python",
   "name": "python",
   "nbconvert_exporter": "python",
   "pygments_lexer": "ipython3",
   "version": "3.8.6"
  }
 },
 "nbformat": 4,
 "nbformat_minor": 4
}
