{
 "cells": [
  {
   "cell_type": "code",
   "execution_count": 1,
   "metadata": {},
   "outputs": [],
   "source": [
    "%reload_ext autoreload\n",
    "%autoreload 2"
   ]
  },
  {
   "cell_type": "code",
   "execution_count": 2,
   "metadata": {},
   "outputs": [],
   "source": [
    "import os\n",
    "import re\n",
    "from pathlib import Path\n",
    "import numpy as np\n",
    "import pandas as pd"
   ]
  },
  {
   "cell_type": "code",
   "execution_count": 3,
   "metadata": {},
   "outputs": [],
   "source": [
    "PROJ = Path(os.path.realpath(\".\"))\n",
    "ROOT = PROJ.parent\n",
    "DATA = ROOT / \"data\""
   ]
  },
  {
   "cell_type": "code",
   "execution_count": 4,
   "metadata": {},
   "outputs": [],
   "source": [
    "sys.path.append(str(ROOT / \"src\"))"
   ]
  },
  {
   "cell_type": "code",
   "execution_count": 5,
   "metadata": {},
   "outputs": [],
   "source": [
    "from get_emeddings import prepare_data_and_embeddings"
   ]
  },
  {
   "cell_type": "markdown",
   "metadata": {},
   "source": [
    "# Read data"
   ]
  },
  {
   "cell_type": "code",
   "execution_count": 6,
   "metadata": {},
   "outputs": [
    {
     "data": {
      "text/html": "<div>\n<style scoped>\n    .dataframe tbody tr th:only-of-type {\n        vertical-align: middle;\n    }\n\n    .dataframe tbody tr th {\n        vertical-align: top;\n    }\n\n    .dataframe thead th {\n        text-align: right;\n    }\n</style>\n<table border=\"1\" class=\"dataframe\">\n  <thead>\n    <tr style=\"text-align: right;\">\n      <th></th>\n      <th>clas_a_title</th>\n    </tr>\n  </thead>\n  <tbody>\n    <tr>\n      <th>0</th>\n      <td>Business Support Services</td>\n    </tr>\n    <tr>\n      <th>1</th>\n      <td>Fishing</td>\n    </tr>\n    <tr>\n      <th>2</th>\n      <td>Agriculture Employment</td>\n    </tr>\n    <tr>\n      <th>3</th>\n      <td>Animal production</td>\n    </tr>\n    <tr>\n      <th>4</th>\n      <td>Support activities of Mining</td>\n    </tr>\n  </tbody>\n</table>\n</div>",
      "text/plain": "                   clas_a_title\n0     Business Support Services\n1                       Fishing\n2        Agriculture Employment\n3             Animal production\n4  Support activities of Mining"
     },
     "execution_count": 6,
     "metadata": {},
     "output_type": "execute_result"
    }
   ],
   "source": [
    "# Classification A\n",
    "clas_a_df = pd.read_excel(DATA / \"raw/Categories 2019_2018.xlsx\")\n",
    "clas_a_df = clas_a_df[[\"MAIN_TAXABLE_ACTIVITY 2018\", \"MAIN_TAXABLE_ACTIVITY 2019\"]]\n",
    "# Create one unique classification\n",
    "clas_a_df = pd.DataFrame(\n",
    "    clas_a_df[\"MAIN_TAXABLE_ACTIVITY 2018\"]\n",
    "    .append(clas_a_df[\"MAIN_TAXABLE_ACTIVITY 2018\"])\n",
    "    .unique(),\n",
    "    columns=[\"clas_a_title\"],\n",
    ")\n",
    "# Remove text in parantheses\n",
    "clas_a_df[\"clas_a_title\"] = clas_a_df[\"clas_a_title\"].str.replace(r\"\\(.*\\)\", \"\").str.strip()\n",
    "# Export\n",
    "clas_a_df.head()"
   ]
  },
  {
   "cell_type": "code",
   "execution_count": 7,
   "metadata": {},
   "outputs": [
    {
     "data": {
      "text/html": "<div>\n<style scoped>\n    .dataframe tbody tr th:only-of-type {\n        vertical-align: middle;\n    }\n\n    .dataframe tbody tr th {\n        vertical-align: top;\n    }\n\n    .dataframe thead th {\n        text-align: right;\n    }\n</style>\n<table border=\"1\" class=\"dataframe\">\n  <thead>\n    <tr style=\"text-align: right;\">\n      <th></th>\n      <th>clas_b_code</th>\n      <th>clas_b_title</th>\n      <th>clas_b_type</th>\n    </tr>\n  </thead>\n  <tbody>\n    <tr>\n      <th>0</th>\n      <td>HS2_1</td>\n      <td>Live animals</td>\n      <td>HS2</td>\n    </tr>\n    <tr>\n      <th>1</th>\n      <td>HS2_2</td>\n      <td>Meat</td>\n      <td>HS2</td>\n    </tr>\n    <tr>\n      <th>2</th>\n      <td>HS2_3</td>\n      <td>Fish</td>\n      <td>HS2</td>\n    </tr>\n    <tr>\n      <th>3</th>\n      <td>HS2_4</td>\n      <td>Diary products</td>\n      <td>HS2</td>\n    </tr>\n    <tr>\n      <th>4</th>\n      <td>HS2_5</td>\n      <td>Animal products</td>\n      <td>HS2</td>\n    </tr>\n  </tbody>\n</table>\n</div>",
      "text/plain": "  clas_b_code     clas_b_title clas_b_type\n0       HS2_1     Live animals         HS2\n1       HS2_2             Meat         HS2\n2       HS2_3             Fish         HS2\n3       HS2_4   Diary products         HS2\n4       HS2_5  Animal products         HS2"
     },
     "execution_count": 7,
     "metadata": {},
     "output_type": "execute_result"
    }
   ],
   "source": [
    "# Classification B\n",
    "sheets = [\"HS2\", \"HS4\", \"NAICS2\", \"NAICS4\"]\n",
    "\n",
    "clas_b_df = pd.DataFrame()\n",
    "for sheet in sheets:\n",
    "    clas_b_df_sheet = pd.read_excel(\n",
    "        DATA / \"raw/codes.xlsx\", sheet_name=sheet, dtype=str\n",
    "    )\n",
    "    clas_b_df_sheet.columns = [\"clas_b_code\", \"clas_b_title\"]\n",
    "    clas_b_df_sheet[\"clas_b_type\"] = sheet\n",
    "    clas_b_df = clas_b_df.append(clas_b_df_sheet)\n",
    "clas_b_df[\"clas_b_code\"] = clas_b_df[\"clas_b_type\"] + \"_\" + clas_b_df[\"clas_b_code\"]\n",
    "clas_b_df.head()"
   ]
  },
  {
   "cell_type": "markdown",
   "metadata": {},
   "source": [
    "# Get embeddings"
   ]
  },
  {
   "cell_type": "code",
   "execution_count": 9,
   "metadata": {},
   "outputs": [
    {
     "name": "stdout",
     "output_type": "stream",
     "text": [
      "Pre-processing text\n",
      "Downloading https://dl.fbaipublicfiles.com/fasttext/vectors-crawl/cc.en.300.bin.gz\n"
     ]
    },
    {
     "name": "stderr",
     "output_type": "stream",
     "text": [
      "[nltk_data] Downloading package punkt to /Users/shg309/nltk_data...\n",
      "[nltk_data]   Package punkt is already up-to-date!\n",
      "[nltk_data] Downloading package wordnet to /Users/shg309/nltk_data...\n",
      "[nltk_data]   Package wordnet is already up-to-date!\n",
      "[nltk_data] Downloading package stopwords to\n",
      "[nltk_data]     /Users/shg309/nltk_data...\n",
      "[nltk_data]   Package stopwords is already up-to-date!\n"
     ]
    },
    {
     "name": "stdout",
     "output_type": "stream",
     "text": []
    }
   ],
   "source": [
    "prepare_data_and_embeddings(\n",
    "    clas_a_df,\n",
    "    clas_b_df,\n",
    "    titlecol_a=\"clas_a_title\",\n",
    "    titlecol_b=\"clas_b_title\",\n",
    "    codecol_b=\"clas_b_code\",\n",
    ")\n"
   ]
  },
  {
   "cell_type": "code",
   "execution_count": null,
   "metadata": {},
   "outputs": [],
   "source": []
  }
 ],
 "metadata": {
  "kernelspec": {
   "display_name": "Python 3.8.5 64-bit ('localcid': conda)",
   "name": "python385jvsc74a57bd057a910d5ee58a6bbcc69a3418962d474a0bd41108e7770c5c2b7bb42664f5a4e"
  },
  "language_info": {
   "codemirror_mode": {
    "name": "ipython",
    "version": 3
   },
   "file_extension": ".py",
   "mimetype": "text/x-python",
   "name": "python",
   "nbconvert_exporter": "python",
   "pygments_lexer": "ipython3",
   "version": "3.8.5"
  },
  "orig_nbformat": 2
 },
 "nbformat": 4,
 "nbformat_minor": 2
}