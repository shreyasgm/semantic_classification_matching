{
 "cells": [
  {
   "cell_type": "code",
   "execution_count": 1,
   "metadata": {},
   "outputs": [],
   "source": [
    "%reload_ext autoreload\n",
    "%autoreload 2"
   ]
  },
  {
   "cell_type": "code",
   "execution_count": 2,
   "metadata": {},
   "outputs": [],
   "source": [
    "import os\n",
    "import re\n",
    "import sys\n",
    "from pathlib import Path\n",
    "\n",
    "import fasttext as ft\n",
    "import nltk\n",
    "import numpy as np\n",
    "import pandas as pd\n",
    "from tqdm import tqdm"
   ]
  },
  {
   "cell_type": "code",
   "execution_count": 3,
   "metadata": {},
   "outputs": [],
   "source": [
    "PROJ = Path(os.path.realpath(\".\"))\n",
    "ROOT = PROJ.parent\n",
    "DATA = ROOT / \"data\""
   ]
  },
  {
   "cell_type": "code",
   "execution_count": 4,
   "metadata": {},
   "outputs": [],
   "source": [
    "sys.path.append(str(ROOT / \"src\"))"
   ]
  },
  {
   "cell_type": "code",
   "execution_count": 11,
   "metadata": {},
   "outputs": [],
   "source": [
    "from get_closest_match import prepare_data_and_embeddings, process_data_and_match"
   ]
  },
  {
   "cell_type": "markdown",
   "metadata": {},
   "source": [
    "# Read data"
   ]
  },
  {
   "cell_type": "code",
   "execution_count": 6,
   "metadata": {},
   "outputs": [
    {
     "data": {
      "text/html": [
       "<div>\n",
       "<style scoped>\n",
       "    .dataframe tbody tr th:only-of-type {\n",
       "        vertical-align: middle;\n",
       "    }\n",
       "\n",
       "    .dataframe tbody tr th {\n",
       "        vertical-align: top;\n",
       "    }\n",
       "\n",
       "    .dataframe thead th {\n",
       "        text-align: right;\n",
       "    }\n",
       "</style>\n",
       "<table border=\"1\" class=\"dataframe\">\n",
       "  <thead>\n",
       "    <tr style=\"text-align: right;\">\n",
       "      <th></th>\n",
       "      <th>clas_a_title</th>\n",
       "    </tr>\n",
       "  </thead>\n",
       "  <tbody>\n",
       "    <tr>\n",
       "      <th>0</th>\n",
       "      <td>Business Support Services</td>\n",
       "    </tr>\n",
       "    <tr>\n",
       "      <th>1</th>\n",
       "      <td>Fishing</td>\n",
       "    </tr>\n",
       "    <tr>\n",
       "      <th>2</th>\n",
       "      <td>Agriculture Employment</td>\n",
       "    </tr>\n",
       "    <tr>\n",
       "      <th>3</th>\n",
       "      <td>Animal production</td>\n",
       "    </tr>\n",
       "    <tr>\n",
       "      <th>4</th>\n",
       "      <td>Support activities of Mining</td>\n",
       "    </tr>\n",
       "  </tbody>\n",
       "</table>\n",
       "</div>"
      ],
      "text/plain": [
       "                   clas_a_title\n",
       "0     Business Support Services\n",
       "1                       Fishing\n",
       "2        Agriculture Employment\n",
       "3             Animal production\n",
       "4  Support activities of Mining"
      ]
     },
     "execution_count": 6,
     "metadata": {},
     "output_type": "execute_result"
    }
   ],
   "source": [
    "# Classification A\n",
    "clas_a_df = pd.read_csv(DATA / \"processed/clas_a.csv\")\n",
    "clas_a_df = clas_a_df.drop(columns=\"clas_a_code\")\n",
    "clas_a_df.head()"
   ]
  },
  {
   "cell_type": "code",
   "execution_count": 7,
   "metadata": {},
   "outputs": [
    {
     "data": {
      "text/html": [
       "<div>\n",
       "<style scoped>\n",
       "    .dataframe tbody tr th:only-of-type {\n",
       "        vertical-align: middle;\n",
       "    }\n",
       "\n",
       "    .dataframe tbody tr th {\n",
       "        vertical-align: top;\n",
       "    }\n",
       "\n",
       "    .dataframe thead th {\n",
       "        text-align: right;\n",
       "    }\n",
       "</style>\n",
       "<table border=\"1\" class=\"dataframe\">\n",
       "  <thead>\n",
       "    <tr style=\"text-align: right;\">\n",
       "      <th></th>\n",
       "      <th>clas_b_code</th>\n",
       "      <th>clas_b_title</th>\n",
       "      <th>clas_b_type</th>\n",
       "    </tr>\n",
       "  </thead>\n",
       "  <tbody>\n",
       "    <tr>\n",
       "      <th>0</th>\n",
       "      <td>HS2_1</td>\n",
       "      <td>Live animals</td>\n",
       "      <td>HS2</td>\n",
       "    </tr>\n",
       "    <tr>\n",
       "      <th>1</th>\n",
       "      <td>HS2_2</td>\n",
       "      <td>Meat</td>\n",
       "      <td>HS2</td>\n",
       "    </tr>\n",
       "    <tr>\n",
       "      <th>2</th>\n",
       "      <td>HS2_3</td>\n",
       "      <td>Fish</td>\n",
       "      <td>HS2</td>\n",
       "    </tr>\n",
       "    <tr>\n",
       "      <th>3</th>\n",
       "      <td>HS2_4</td>\n",
       "      <td>Diary products</td>\n",
       "      <td>HS2</td>\n",
       "    </tr>\n",
       "    <tr>\n",
       "      <th>4</th>\n",
       "      <td>HS2_5</td>\n",
       "      <td>Animal products</td>\n",
       "      <td>HS2</td>\n",
       "    </tr>\n",
       "  </tbody>\n",
       "</table>\n",
       "</div>"
      ],
      "text/plain": [
       "  clas_b_code     clas_b_title clas_b_type\n",
       "0       HS2_1     Live animals         HS2\n",
       "1       HS2_2             Meat         HS2\n",
       "2       HS2_3             Fish         HS2\n",
       "3       HS2_4   Diary products         HS2\n",
       "4       HS2_5  Animal products         HS2"
      ]
     },
     "execution_count": 7,
     "metadata": {},
     "output_type": "execute_result"
    }
   ],
   "source": [
    "# Classification B\n",
    "sheets = [\"HS2\", \"HS4\", \"NAICS2\", \"NAICS4\"]\n",
    "\n",
    "clas_b_df = pd.DataFrame()\n",
    "for sheet in sheets:\n",
    "    clas_b_df_sheet = pd.read_excel(\n",
    "        DATA / \"raw/codes.xlsx\", sheet_name=sheet, dtype=str\n",
    "    )\n",
    "    clas_b_df_sheet.columns = [\"clas_b_code\", \"clas_b_title\"]\n",
    "    clas_b_df_sheet[\"clas_b_type\"] = sheet\n",
    "    clas_b_df = clas_b_df.append(clas_b_df_sheet)\n",
    "clas_b_df[\"clas_b_code\"] = clas_b_df[\"clas_b_type\"] + \"_\" + clas_b_df[\"clas_b_code\"]\n",
    "clas_b_df.head()"
   ]
  },
  {
   "cell_type": "markdown",
   "metadata": {},
   "source": [
    "# Test"
   ]
  },
  {
   "cell_type": "code",
   "execution_count": 13,
   "metadata": {},
   "outputs": [
    {
     "name": "stdout",
     "output_type": "stream",
     "text": [
      "Pre-processing text\n"
     ]
    },
    {
     "name": "stderr",
     "output_type": "stream",
     "text": [
      "100%|██████████| 186/186 [00:00<00:00, 31856.77it/s]\n",
      "100%|██████████| 186/186 [00:00<00:00, 14256.43it/s]\n",
      "100%|██████████| 1678/1678 [00:00<00:00, 50173.89it/s]\n",
      "100%|██████████| 1678/1678 [00:00<00:00, 16261.84it/s]"
     ]
    },
    {
     "name": "stdout",
     "output_type": "stream",
     "text": [
      "Preparing embeddings\n"
     ]
    },
    {
     "name": "stderr",
     "output_type": "stream",
     "text": [
      "\n"
     ]
    }
   ],
   "source": [
    "result_codes, result_names = process_data_and_match(\n",
    "    clas_a_df,\n",
    "    clas_b_df,\n",
    "    titlecol_a=\"clas_a_title\",\n",
    "    titlecol_b=\"clas_b_title\",\n",
    "    codecol_b=\"clas_b_code\",\n",
    "    n_best = 5\n",
    ")"
   ]
  },
  {
   "cell_type": "code",
   "execution_count": null,
   "metadata": {},
   "outputs": [],
   "source": []
  }
 ],
 "metadata": {
  "kernelspec": {
   "display_name": "Python 3",
   "language": "python",
   "name": "python3"
  },
  "language_info": {
   "codemirror_mode": {
    "name": "ipython",
    "version": 3
   },
   "file_extension": ".py",
   "mimetype": "text/x-python",
   "name": "python",
   "nbconvert_exporter": "python",
   "pygments_lexer": "ipython3",
   "version": "3.8.6"
  }
 },
 "nbformat": 4,
 "nbformat_minor": 4
}