{
 "cells": [
  {
   "cell_type": "markdown",
   "metadata": {},
   "source": [
    "# Develop Algorithm to Match Lists on Semantic Similarity"
   ]
  },
  {
   "cell_type": "code",
   "execution_count": 28,
   "metadata": {},
   "outputs": [],
   "source": [
    "import os\n",
    "import random\n",
    "import re\n",
    "from pathlib import Path\n",
    "import numpy as np\n",
    "import pandas as pd\n",
    "from scipy.spatial.distance import cdist, pdist, squareform\n",
    "import spacy\n",
    "from tqdm import tqdm"
   ]
  },
  {
   "cell_type": "code",
   "execution_count": 29,
   "metadata": {},
   "outputs": [],
   "source": [
    "PROJ = Path(os.path.realpath(\".\"))\n",
    "ROOT = PROJ.parent\n",
    "DATA = ROOT / \"data\""
   ]
  },
  {
   "cell_type": "code",
   "execution_count": 30,
   "metadata": {},
   "outputs": [],
   "source": [
    "# Prepare spacy\n",
    "# python -m spacy download en_core_web_lg\n",
    "nlp = spacy.load(\"en_core_web_lg\")"
   ]
  },
  {
   "cell_type": "markdown",
   "metadata": {},
   "source": [
    "# Read data"
   ]
  },
  {
   "cell_type": "code",
   "execution_count": 31,
   "metadata": {},
   "outputs": [
    {
     "data": {
      "text/html": "<div>\n<style scoped>\n    .dataframe tbody tr th:only-of-type {\n        vertical-align: middle;\n    }\n\n    .dataframe tbody tr th {\n        vertical-align: top;\n    }\n\n    .dataframe thead th {\n        text-align: right;\n    }\n</style>\n<table border=\"1\" class=\"dataframe\">\n  <thead>\n    <tr style=\"text-align: right;\">\n      <th></th>\n      <th>clas_a_title</th>\n    </tr>\n  </thead>\n  <tbody>\n    <tr>\n      <th>0</th>\n      <td>Business Support Services</td>\n    </tr>\n    <tr>\n      <th>1</th>\n      <td>Fishing</td>\n    </tr>\n    <tr>\n      <th>2</th>\n      <td>Agriculture Employment</td>\n    </tr>\n    <tr>\n      <th>3</th>\n      <td>Animal production</td>\n    </tr>\n    <tr>\n      <th>4</th>\n      <td>Support activities of Mining</td>\n    </tr>\n  </tbody>\n</table>\n</div>",
      "text/plain": "                   clas_a_title\n0     Business Support Services\n1                       Fishing\n2        Agriculture Employment\n3             Animal production\n4  Support activities of Mining"
     },
     "execution_count": 31,
     "metadata": {},
     "output_type": "execute_result"
    }
   ],
   "source": [
    "# Classification A\n",
    "clas_df_a = pd.read_excel(DATA / \"raw/Categories 2019_2018.xlsx\")\n",
    "clas_df_a = clas_df_a[[\"MAIN_TAXABLE_ACTIVITY 2018\", \"MAIN_TAXABLE_ACTIVITY 2019\"]]\n",
    "# Create one unique classification\n",
    "clas_df_a = pd.DataFrame(\n",
    "    clas_df_a[\"MAIN_TAXABLE_ACTIVITY 2018\"]\n",
    "    .append(clas_df_a[\"MAIN_TAXABLE_ACTIVITY 2018\"])\n",
    "    .unique(),\n",
    "    columns=[\"clas_a_title\"],\n",
    ")\n",
    "# Remove text in parantheses\n",
    "clas_df_a[\"clas_a_title\"] = clas_df_a[\"clas_a_title\"].str.replace(r\"\\(.*\\)\", \"\").str.strip()\n",
    "# Export\n",
    "clas_df_a.head()"
   ]
  },
  {
   "cell_type": "code",
   "execution_count": 32,
   "metadata": {},
   "outputs": [
    {
     "data": {
      "text/html": "<div>\n<style scoped>\n    .dataframe tbody tr th:only-of-type {\n        vertical-align: middle;\n    }\n\n    .dataframe tbody tr th {\n        vertical-align: top;\n    }\n\n    .dataframe thead th {\n        text-align: right;\n    }\n</style>\n<table border=\"1\" class=\"dataframe\">\n  <thead>\n    <tr style=\"text-align: right;\">\n      <th></th>\n      <th>clas_b_code</th>\n      <th>clas_b_title</th>\n      <th>clas_b_type</th>\n    </tr>\n  </thead>\n  <tbody>\n    <tr>\n      <th>0</th>\n      <td>1</td>\n      <td>Live animals</td>\n      <td>HS2</td>\n    </tr>\n    <tr>\n      <th>1</th>\n      <td>2</td>\n      <td>Meat</td>\n      <td>HS2</td>\n    </tr>\n    <tr>\n      <th>2</th>\n      <td>3</td>\n      <td>Fish</td>\n      <td>HS2</td>\n    </tr>\n    <tr>\n      <th>3</th>\n      <td>4</td>\n      <td>Diary products</td>\n      <td>HS2</td>\n    </tr>\n    <tr>\n      <th>4</th>\n      <td>5</td>\n      <td>Animal products</td>\n      <td>HS2</td>\n    </tr>\n  </tbody>\n</table>\n</div>",
      "text/plain": "  clas_b_code     clas_b_title clas_b_type\n0           1     Live animals         HS2\n1           2             Meat         HS2\n2           3             Fish         HS2\n3           4   Diary products         HS2\n4           5  Animal products         HS2"
     },
     "execution_count": 32,
     "metadata": {},
     "output_type": "execute_result"
    }
   ],
   "source": [
    "# Classification B\n",
    "sheets = [\"HS2\", \"HS4\", \"NAICS2\", \"NAICS4\"]\n",
    "\n",
    "clas_df_b = pd.DataFrame()\n",
    "for sheet in sheets:\n",
    "    clas_df_b_sheet = pd.read_excel(DATA / \"raw/codes.xlsx\", sheet_name=sheet, dtype=str)\n",
    "    clas_df_b_sheet.columns = [\"clas_b_code\", \"clas_b_title\"]\n",
    "    clas_df_b_sheet[\"clas_b_type\"] = sheet\n",
    "    clas_df_b = clas_df_b.append(clas_df_b_sheet)\n",
    "clas_df_b.head()"
   ]
  },
  {
   "cell_type": "markdown",
   "metadata": {},
   "source": [
    "# Pre-process data"
   ]
  },
  {
   "cell_type": "code",
   "execution_count": 37,
   "metadata": {},
   "outputs": [],
   "source": [
    "def process_raw_classification(clas_df, titlecol, codecol=None):\n",
    "    # Prepare unique classification df with a code\n",
    "    clas_df = clas_df.drop_duplicates().copy()\n",
    "    # Remove nulls\n",
    "    clas_df = clas_df.dropna(subset=[titlecol])\n",
    "    clas_df = clas_df[clas_df[titlecol].str.strip() != \"\"]\n",
    "    # Create ID if there's none\n",
    "    if codecol is None:\n",
    "        clas_df[\"codecol\"] = [f\"a{str(x)}\" for x in range(len(clas_df))]\n",
    "        codecol = \"codecol\"\n",
    "    # Error if codecol is duplicated\n",
    "    if clas_df[codecol].duplicated().sum() > 0:\n",
    "        raise ValueError(\"Code column is duplicated.\")\n",
    "    return clas_df"
   ]
  },
  {
   "cell_type": "code",
   "execution_count": 38,
   "metadata": {},
   "outputs": [],
   "source": [
    "# Pre-process dfs\n",
    "clas_df_a = process_raw_classification(clas_df_a, \"clas_a_title\")\n",
    "clas_df_b = process_raw_classification(clas_df_b, \"clas_b_title\")"
   ]
  },
  {
   "cell_type": "code",
   "execution_count": null,
   "metadata": {},
   "outputs": [],
   "source": [
    "# Get embeddings from spacy\n"
   ]
  }
 ],
 "metadata": {
  "kernelspec": {
   "display_name": "Python 3",
   "language": "python",
   "name": "python3"
  },
  "language_info": {
   "codemirror_mode": {
    "name": "ipython",
    "version": 3
   },
   "file_extension": ".py",
   "mimetype": "text/x-python",
   "name": "python",
   "nbconvert_exporter": "python",
   "pygments_lexer": "ipython3",
   "version": "3.8.5"
  },
  "orig_nbformat": 2
 },
 "nbformat": 4,
 "nbformat_minor": 2
}