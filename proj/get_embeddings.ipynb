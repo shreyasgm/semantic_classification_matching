{
 "cells": [
  {
   "cell_type": "code",
   "execution_count": 1,
   "metadata": {},
   "outputs": [
    {
     "ename": "ModuleNotFoundError",
     "evalue": "No module named 'fasttext'",
     "output_type": "error",
     "traceback": [
      "\u001b[0;31m---------------------------------------------------------------------------\u001b[0m",
      "\u001b[0;31mModuleNotFoundError\u001b[0m                       Traceback (most recent call last)",
      "\u001b[0;32m<ipython-input-1-d26b3082aabc>\u001b[0m in \u001b[0;36m<module>\u001b[0;34m\u001b[0m\n\u001b[1;32m      3\u001b[0m \u001b[0;32mfrom\u001b[0m \u001b[0mpathlib\u001b[0m \u001b[0;32mimport\u001b[0m \u001b[0mPath\u001b[0m\u001b[0;34m\u001b[0m\u001b[0;34m\u001b[0m\u001b[0m\n\u001b[1;32m      4\u001b[0m \u001b[0;34m\u001b[0m\u001b[0m\n\u001b[0;32m----> 5\u001b[0;31m \u001b[0;32mimport\u001b[0m \u001b[0mfasttext\u001b[0m \u001b[0;32mas\u001b[0m \u001b[0mft\u001b[0m\u001b[0;34m\u001b[0m\u001b[0;34m\u001b[0m\u001b[0m\n\u001b[0m\u001b[1;32m      6\u001b[0m \u001b[0;32mimport\u001b[0m \u001b[0mnltk\u001b[0m\u001b[0;34m\u001b[0m\u001b[0;34m\u001b[0m\u001b[0m\n\u001b[1;32m      7\u001b[0m \u001b[0;32mimport\u001b[0m \u001b[0mnumpy\u001b[0m \u001b[0;32mas\u001b[0m \u001b[0mnp\u001b[0m\u001b[0;34m\u001b[0m\u001b[0;34m\u001b[0m\u001b[0m\n",
      "\u001b[0;31mModuleNotFoundError\u001b[0m: No module named 'fasttext'"
     ]
    }
   ],
   "source": [
    "import os\n",
    "import re\n",
    "from pathlib import Path\n",
    "\n",
    "import fasttext as ft\n",
    "import nltk\n",
    "import numpy as np\n",
    "import pandas as pd\n",
    "from tqdm import tqdm"
   ]
  },
  {
   "cell_type": "code",
   "execution_count": 31,
   "metadata": {},
   "outputs": [],
   "source": [
    "# nltk.download('punkt')\n",
    "# nltk.download('wordnet')\n",
    "# nltk.download('stopwords')"
   ]
  },
  {
   "cell_type": "code",
   "execution_count": 23,
   "metadata": {},
   "outputs": [],
   "source": [
    "PROJ = Path(os.path.realpath(\".\"))\n",
    "ROOT = PROJ.parent\n",
    "DATA = ROOT / \"data\""
   ]
  },
  {
   "cell_type": "markdown",
   "metadata": {},
   "source": [
    "# Read and process data"
   ]
  },
  {
   "cell_type": "code",
   "execution_count": 54,
   "metadata": {},
   "outputs": [
    {
     "data": {
      "text/html": [
       "<div>\n",
       "<style scoped>\n",
       "    .dataframe tbody tr th:only-of-type {\n",
       "        vertical-align: middle;\n",
       "    }\n",
       "\n",
       "    .dataframe tbody tr th {\n",
       "        vertical-align: top;\n",
       "    }\n",
       "\n",
       "    .dataframe thead th {\n",
       "        text-align: right;\n",
       "    }\n",
       "</style>\n",
       "<table border=\"1\" class=\"dataframe\">\n",
       "  <thead>\n",
       "    <tr style=\"text-align: right;\">\n",
       "      <th></th>\n",
       "      <th>clas_a_title</th>\n",
       "      <th>clas_a_code</th>\n",
       "    </tr>\n",
       "  </thead>\n",
       "  <tbody>\n",
       "    <tr>\n",
       "      <th>0</th>\n",
       "      <td>Business Support Services</td>\n",
       "      <td>a0</td>\n",
       "    </tr>\n",
       "    <tr>\n",
       "      <th>1</th>\n",
       "      <td>Fishing</td>\n",
       "      <td>a1</td>\n",
       "    </tr>\n",
       "    <tr>\n",
       "      <th>2</th>\n",
       "      <td>Agriculture Employment</td>\n",
       "      <td>a2</td>\n",
       "    </tr>\n",
       "    <tr>\n",
       "      <th>3</th>\n",
       "      <td>Animal production</td>\n",
       "      <td>a3</td>\n",
       "    </tr>\n",
       "    <tr>\n",
       "      <th>4</th>\n",
       "      <td>Support activities of Mining</td>\n",
       "      <td>a4</td>\n",
       "    </tr>\n",
       "  </tbody>\n",
       "</table>\n",
       "</div>"
      ],
      "text/plain": [
       "                   clas_a_title clas_a_code\n",
       "0     Business Support Services          a0\n",
       "1                       Fishing          a1\n",
       "2        Agriculture Employment          a2\n",
       "3             Animal production          a3\n",
       "4  Support activities of Mining          a4"
      ]
     },
     "execution_count": 54,
     "metadata": {},
     "output_type": "execute_result"
    }
   ],
   "source": [
    "# Classification A\n",
    "clas_df_a = pd.read_excel(DATA / \"raw/Categories 2019_2018.xlsx\")\n",
    "clas_df_a = clas_df_a[[\"MAIN_TAXABLE_ACTIVITY 2018\", \"MAIN_TAXABLE_ACTIVITY 2019\"]]\n",
    "# Create one unique classification\n",
    "clas_a = pd.DataFrame(\n",
    "    clas_df_a[\"MAIN_TAXABLE_ACTIVITY 2018\"]\n",
    "    .append(clas_df_a[\"MAIN_TAXABLE_ACTIVITY 2018\"])\n",
    "    .unique(),\n",
    "    columns=[\"clas_a_title\"],\n",
    ")\n",
    "# Remove text in parantheses\n",
    "clas_a[\"clas_a_title\"] = clas_a[\"clas_a_title\"].str.replace(r\"\\(.*\\)\", \"\").str.strip()\n",
    "# Remove nulls\n",
    "clas_a = clas_a.dropna()\n",
    "# Create ID\n",
    "clas_a[\"clas_a_code\"] = [f\"a{str(x)}\" for x in range(len(clas_a))]\n",
    "# Export\n",
    "clas_a.to_csv(DATA / \"processed/clas_a.csv\", index=False)\n",
    "clas_a.head()"
   ]
  },
  {
   "cell_type": "code",
   "execution_count": 83,
   "metadata": {},
   "outputs": [
    {
     "data": {
      "text/html": [
       "<div>\n",
       "<style scoped>\n",
       "    .dataframe tbody tr th:only-of-type {\n",
       "        vertical-align: middle;\n",
       "    }\n",
       "\n",
       "    .dataframe tbody tr th {\n",
       "        vertical-align: top;\n",
       "    }\n",
       "\n",
       "    .dataframe thead th {\n",
       "        text-align: right;\n",
       "    }\n",
       "</style>\n",
       "<table border=\"1\" class=\"dataframe\">\n",
       "  <thead>\n",
       "    <tr style=\"text-align: right;\">\n",
       "      <th></th>\n",
       "      <th>clas_b_code</th>\n",
       "      <th>clas_b_title</th>\n",
       "    </tr>\n",
       "  </thead>\n",
       "  <tbody>\n",
       "    <tr>\n",
       "      <th>0</th>\n",
       "      <td>1111</td>\n",
       "      <td>Oilseed and Grain Farming</td>\n",
       "    </tr>\n",
       "    <tr>\n",
       "      <th>1</th>\n",
       "      <td>1112</td>\n",
       "      <td>Vegetable and Melon Farming</td>\n",
       "    </tr>\n",
       "    <tr>\n",
       "      <th>2</th>\n",
       "      <td>1113</td>\n",
       "      <td>Fruit and Tree Nut Farming</td>\n",
       "    </tr>\n",
       "    <tr>\n",
       "      <th>3</th>\n",
       "      <td>1114</td>\n",
       "      <td>Greenhouse, Nursery, and Floriculture Production</td>\n",
       "    </tr>\n",
       "    <tr>\n",
       "      <th>4</th>\n",
       "      <td>1119</td>\n",
       "      <td>Other Crop Farming</td>\n",
       "    </tr>\n",
       "  </tbody>\n",
       "</table>\n",
       "</div>"
      ],
      "text/plain": [
       "  clas_b_code                                      clas_b_title\n",
       "0        1111                         Oilseed and Grain Farming\n",
       "1        1112                       Vegetable and Melon Farming\n",
       "2        1113                        Fruit and Tree Nut Farming\n",
       "3        1114  Greenhouse, Nursery, and Floriculture Production\n",
       "4        1119                                Other Crop Farming"
      ]
     },
     "execution_count": 83,
     "metadata": {},
     "output_type": "execute_result"
    }
   ],
   "source": [
    "# Classification B\n",
    "sheets = [\"HS2\", \"HS4\", \"NAICS2\", \"NAICS4\"]\n",
    "for sheet in sheets:\n",
    "    clas_df_b = pd.read_excel(DATA / \"raw/codes.xlsx\", sheet_name=sheet, dtype=str)\n",
    "    clas_df_b.columns = [\"clas_b_code\", \"clas_b_title\"]\n",
    "    clas_df_b.to_csv(DATA / f\"processed/clas_b_{sheet}.csv\", index=False)\n",
    "clas_df_b.head()"
   ]
  },
  {
   "cell_type": "markdown",
   "metadata": {},
   "source": [
    "# Get embeddings"
   ]
  },
  {
   "cell_type": "markdown",
   "metadata": {},
   "source": [
    "## Preprocess text"
   ]
  },
  {
   "cell_type": "code",
   "execution_count": 32,
   "metadata": {},
   "outputs": [],
   "source": [
    "en_stop = set(nltk.corpus.stopwords.words(\"english\"))\n",
    "stemmer = nltk.stem.WordNetLemmatizer()\n",
    "word_punctuation_tokenizer = nltk.WordPunctTokenizer()"
   ]
  },
  {
   "cell_type": "code",
   "execution_count": 33,
   "metadata": {},
   "outputs": [],
   "source": [
    "def preprocess_text(document):\n",
    "    # Remove all the special characters\n",
    "    document = re.sub(r\"\\W\", \" \", str(document))\n",
    "\n",
    "    # remove all single characters\n",
    "    document = re.sub(r\"\\s+[a-zA-Z]\\s+\", \" \", document)\n",
    "\n",
    "    # Remove single characters from the start\n",
    "    document = re.sub(r\"\\^[a-zA-Z]\\s+\", \" \", document)\n",
    "\n",
    "    # Substituting multiple spaces with single space\n",
    "    document = re.sub(r\"\\s+\", \" \", document, flags=re.I)\n",
    "\n",
    "    # Converting to Lowercase\n",
    "    document = document.lower()\n",
    "\n",
    "    # Lemmatization\n",
    "    tokens = document.split()\n",
    "    tokens = [stemmer.lemmatize(word) for word in tokens]\n",
    "    tokens = [word for word in tokens if word not in en_stop]\n",
    "    tokens = [word for word in tokens if len(word) > 3]\n",
    "\n",
    "    preprocessed_text = \" \".join(tokens)\n",
    "    word_tokenized_corpus = word_punctuation_tokenizer.tokenize(preprocessed_text)\n",
    "    return word_tokenized_corpus"
   ]
  },
  {
   "cell_type": "code",
   "execution_count": 36,
   "metadata": {},
   "outputs": [
    {
     "name": "stdout",
     "output_type": "stream",
     "text": [
      "['artificial', 'intelligence', 'advanced', 'technology', 'present']\n"
     ]
    }
   ],
   "source": [
    "sent = preprocess_text(\n",
    "    \"Artificial intelligence, is the most advanced technology of the present era\"\n",
    ")\n",
    "print(sent)"
   ]
  },
  {
   "cell_type": "code",
   "execution_count": 37,
   "metadata": {},
   "outputs": [],
   "source": [
    "def preprocess_df(df, text_colname):\n",
    "    final_corpus = [preprocess_text(doc) for doc in tqdm(df[text_colname])]\n",
    "    return final_corpus"
   ]
  },
  {
   "cell_type": "markdown",
   "metadata": {},
   "source": [
    "## Load model and obtain word vectors"
   ]
  },
  {
   "cell_type": "code",
   "execution_count": 42,
   "metadata": {},
   "outputs": [
    {
     "name": "stderr",
     "output_type": "stream",
     "text": [
      "Warning : `load_model` does not return WordVectorModel or SupervisedModel any more, but a `FastText` object which is very similar.\n"
     ]
    }
   ],
   "source": [
    "ft_model = ft.load_model(str(ROOT / \"models/cc.en.300.bin\"))"
   ]
  },
  {
   "cell_type": "code",
   "execution_count": 43,
   "metadata": {},
   "outputs": [],
   "source": [
    "def get_mean_word_vector(doc_text):\n",
    "    if len(doc_text) > 0:\n",
    "        word_vectors = np.array([ft_model.get_word_vector(x) for x in doc_text])\n",
    "        result = np.nanmean(word_vectors, axis=0)\n",
    "    else:\n",
    "        result = np.array([np.nan] * ft_model.get_word_vector(\"\").shape[0])\n",
    "    return result"
   ]
  },
  {
   "cell_type": "code",
   "execution_count": 44,
   "metadata": {},
   "outputs": [],
   "source": [
    "def vectorize_textlist(textlist):\n",
    "    doc_vectors = np.array(\n",
    "        [get_mean_word_vector(x) for x in tqdm(textlist, total=len(textlist))]\n",
    "    )\n",
    "    return doc_vectors"
   ]
  },
  {
   "cell_type": "markdown",
   "metadata": {},
   "source": [
    "## Apply to data"
   ]
  },
  {
   "cell_type": "code",
   "execution_count": 86,
   "metadata": {},
   "outputs": [
    {
     "data": {
      "text/html": [
       "<div>\n",
       "<style scoped>\n",
       "    .dataframe tbody tr th:only-of-type {\n",
       "        vertical-align: middle;\n",
       "    }\n",
       "\n",
       "    .dataframe tbody tr th {\n",
       "        vertical-align: top;\n",
       "    }\n",
       "\n",
       "    .dataframe thead th {\n",
       "        text-align: right;\n",
       "    }\n",
       "</style>\n",
       "<table border=\"1\" class=\"dataframe\">\n",
       "  <thead>\n",
       "    <tr style=\"text-align: right;\">\n",
       "      <th></th>\n",
       "      <th>clas_a_title</th>\n",
       "      <th>clas_a_code</th>\n",
       "    </tr>\n",
       "  </thead>\n",
       "  <tbody>\n",
       "    <tr>\n",
       "      <th>0</th>\n",
       "      <td>Business Support Services</td>\n",
       "      <td>a0</td>\n",
       "    </tr>\n",
       "    <tr>\n",
       "      <th>1</th>\n",
       "      <td>Fishing</td>\n",
       "      <td>a1</td>\n",
       "    </tr>\n",
       "    <tr>\n",
       "      <th>2</th>\n",
       "      <td>Agriculture Employment</td>\n",
       "      <td>a2</td>\n",
       "    </tr>\n",
       "    <tr>\n",
       "      <th>3</th>\n",
       "      <td>Animal production</td>\n",
       "      <td>a3</td>\n",
       "    </tr>\n",
       "    <tr>\n",
       "      <th>4</th>\n",
       "      <td>Support activities of Mining</td>\n",
       "      <td>a4</td>\n",
       "    </tr>\n",
       "  </tbody>\n",
       "</table>\n",
       "</div>"
      ],
      "text/plain": [
       "                   clas_a_title clas_a_code\n",
       "0     Business Support Services          a0\n",
       "1                       Fishing          a1\n",
       "2        Agriculture Employment          a2\n",
       "3             Animal production          a3\n",
       "4  Support activities of Mining          a4"
      ]
     },
     "execution_count": 86,
     "metadata": {},
     "output_type": "execute_result"
    }
   ],
   "source": [
    "clas_a = pd.read_csv(DATA / \"processed/clas_a.csv\")\n",
    "clas_a.head()"
   ]
  },
  {
   "cell_type": "code",
   "execution_count": 87,
   "metadata": {},
   "outputs": [],
   "source": [
    "def get_wv_df(df, textcol):\n",
    "    df_text = preprocess_df(df, textcol)\n",
    "    vec = vectorize_textlist(df_text)\n",
    "    vec_df = pd.concat([df, pd.DataFrame(vec)], axis=1)\n",
    "    vec_df = vec_df.set_index(keys=list(df.columns))\n",
    "    vec_df.columns = [str(x) for x in vec_df.columns]\n",
    "    return vec_df"
   ]
  },
  {
   "cell_type": "code",
   "execution_count": 88,
   "metadata": {},
   "outputs": [
    {
     "name": "stderr",
     "output_type": "stream",
     "text": [
      "100%|██████████| 187/187 [00:00<00:00, 8203.91it/s]\n",
      "100%|██████████| 187/187 [00:00<00:00, 2623.78it/s]\n"
     ]
    },
    {
     "data": {
      "text/html": [
       "<div>\n",
       "<style scoped>\n",
       "    .dataframe tbody tr th:only-of-type {\n",
       "        vertical-align: middle;\n",
       "    }\n",
       "\n",
       "    .dataframe tbody tr th {\n",
       "        vertical-align: top;\n",
       "    }\n",
       "\n",
       "    .dataframe thead th {\n",
       "        text-align: right;\n",
       "    }\n",
       "</style>\n",
       "<table border=\"1\" class=\"dataframe\">\n",
       "  <thead>\n",
       "    <tr style=\"text-align: right;\">\n",
       "      <th></th>\n",
       "      <th></th>\n",
       "      <th>0</th>\n",
       "      <th>1</th>\n",
       "      <th>2</th>\n",
       "      <th>3</th>\n",
       "      <th>4</th>\n",
       "      <th>5</th>\n",
       "      <th>6</th>\n",
       "      <th>7</th>\n",
       "      <th>8</th>\n",
       "      <th>9</th>\n",
       "      <th>...</th>\n",
       "      <th>290</th>\n",
       "      <th>291</th>\n",
       "      <th>292</th>\n",
       "      <th>293</th>\n",
       "      <th>294</th>\n",
       "      <th>295</th>\n",
       "      <th>296</th>\n",
       "      <th>297</th>\n",
       "      <th>298</th>\n",
       "      <th>299</th>\n",
       "    </tr>\n",
       "    <tr>\n",
       "      <th>clas_a_title</th>\n",
       "      <th>clas_a_code</th>\n",
       "      <th></th>\n",
       "      <th></th>\n",
       "      <th></th>\n",
       "      <th></th>\n",
       "      <th></th>\n",
       "      <th></th>\n",
       "      <th></th>\n",
       "      <th></th>\n",
       "      <th></th>\n",
       "      <th></th>\n",
       "      <th></th>\n",
       "      <th></th>\n",
       "      <th></th>\n",
       "      <th></th>\n",
       "      <th></th>\n",
       "      <th></th>\n",
       "      <th></th>\n",
       "      <th></th>\n",
       "      <th></th>\n",
       "      <th></th>\n",
       "      <th></th>\n",
       "    </tr>\n",
       "  </thead>\n",
       "  <tbody>\n",
       "    <tr>\n",
       "      <th>Business Support Services</th>\n",
       "      <th>a0</th>\n",
       "      <td>-0.025925</td>\n",
       "      <td>0.025082</td>\n",
       "      <td>0.012210</td>\n",
       "      <td>0.041680</td>\n",
       "      <td>-0.037457</td>\n",
       "      <td>0.041801</td>\n",
       "      <td>0.055334</td>\n",
       "      <td>0.005141</td>\n",
       "      <td>-0.022281</td>\n",
       "      <td>0.001679</td>\n",
       "      <td>...</td>\n",
       "      <td>0.030224</td>\n",
       "      <td>0.034443</td>\n",
       "      <td>-0.018788</td>\n",
       "      <td>0.030350</td>\n",
       "      <td>0.011706</td>\n",
       "      <td>0.009458</td>\n",
       "      <td>0.005382</td>\n",
       "      <td>0.043995</td>\n",
       "      <td>-0.007689</td>\n",
       "      <td>0.015419</td>\n",
       "    </tr>\n",
       "    <tr>\n",
       "      <th>Fishing</th>\n",
       "      <th>a1</th>\n",
       "      <td>0.067962</td>\n",
       "      <td>0.046946</td>\n",
       "      <td>0.048757</td>\n",
       "      <td>0.081487</td>\n",
       "      <td>-0.025844</td>\n",
       "      <td>0.041846</td>\n",
       "      <td>0.052490</td>\n",
       "      <td>-0.045384</td>\n",
       "      <td>0.019322</td>\n",
       "      <td>-0.050553</td>\n",
       "      <td>...</td>\n",
       "      <td>-0.040666</td>\n",
       "      <td>-0.004089</td>\n",
       "      <td>-0.001307</td>\n",
       "      <td>0.025173</td>\n",
       "      <td>-0.010149</td>\n",
       "      <td>-0.046725</td>\n",
       "      <td>-0.110870</td>\n",
       "      <td>0.111892</td>\n",
       "      <td>-0.013310</td>\n",
       "      <td>-0.068479</td>\n",
       "    </tr>\n",
       "    <tr>\n",
       "      <th>Agriculture Employment</th>\n",
       "      <th>a2</th>\n",
       "      <td>0.008636</td>\n",
       "      <td>0.021638</td>\n",
       "      <td>0.011066</td>\n",
       "      <td>0.013775</td>\n",
       "      <td>0.001630</td>\n",
       "      <td>0.020510</td>\n",
       "      <td>0.035688</td>\n",
       "      <td>0.008609</td>\n",
       "      <td>0.042362</td>\n",
       "      <td>0.003880</td>\n",
       "      <td>...</td>\n",
       "      <td>-0.000912</td>\n",
       "      <td>0.053520</td>\n",
       "      <td>-0.024568</td>\n",
       "      <td>0.040491</td>\n",
       "      <td>0.054232</td>\n",
       "      <td>-0.031612</td>\n",
       "      <td>-0.000425</td>\n",
       "      <td>0.036069</td>\n",
       "      <td>0.033190</td>\n",
       "      <td>0.009171</td>\n",
       "    </tr>\n",
       "    <tr>\n",
       "      <th>Animal production</th>\n",
       "      <th>a3</th>\n",
       "      <td>0.036750</td>\n",
       "      <td>0.033058</td>\n",
       "      <td>0.018890</td>\n",
       "      <td>0.080253</td>\n",
       "      <td>0.013234</td>\n",
       "      <td>-0.004848</td>\n",
       "      <td>0.049736</td>\n",
       "      <td>-0.008246</td>\n",
       "      <td>-0.018134</td>\n",
       "      <td>0.019848</td>\n",
       "      <td>...</td>\n",
       "      <td>-0.029893</td>\n",
       "      <td>0.039475</td>\n",
       "      <td>-0.038676</td>\n",
       "      <td>0.035650</td>\n",
       "      <td>0.064141</td>\n",
       "      <td>-0.022897</td>\n",
       "      <td>-0.034500</td>\n",
       "      <td>0.088468</td>\n",
       "      <td>0.039201</td>\n",
       "      <td>0.015250</td>\n",
       "    </tr>\n",
       "    <tr>\n",
       "      <th>Support activities of Mining</th>\n",
       "      <th>a4</th>\n",
       "      <td>-0.017894</td>\n",
       "      <td>0.035146</td>\n",
       "      <td>0.002398</td>\n",
       "      <td>0.047889</td>\n",
       "      <td>-0.005247</td>\n",
       "      <td>0.007037</td>\n",
       "      <td>0.041748</td>\n",
       "      <td>-0.031951</td>\n",
       "      <td>0.020205</td>\n",
       "      <td>-0.021872</td>\n",
       "      <td>...</td>\n",
       "      <td>0.014639</td>\n",
       "      <td>0.013979</td>\n",
       "      <td>-0.018705</td>\n",
       "      <td>0.036255</td>\n",
       "      <td>0.039297</td>\n",
       "      <td>-0.005247</td>\n",
       "      <td>0.022188</td>\n",
       "      <td>0.051874</td>\n",
       "      <td>0.015406</td>\n",
       "      <td>0.001576</td>\n",
       "    </tr>\n",
       "  </tbody>\n",
       "</table>\n",
       "<p>5 rows × 300 columns</p>\n",
       "</div>"
      ],
      "text/plain": [
       "                                                 0         1         2  \\\n",
       "clas_a_title                 clas_a_code                                 \n",
       "Business Support Services    a0          -0.025925  0.025082  0.012210   \n",
       "Fishing                      a1           0.067962  0.046946  0.048757   \n",
       "Agriculture Employment       a2           0.008636  0.021638  0.011066   \n",
       "Animal production            a3           0.036750  0.033058  0.018890   \n",
       "Support activities of Mining a4          -0.017894  0.035146  0.002398   \n",
       "\n",
       "                                                 3         4         5  \\\n",
       "clas_a_title                 clas_a_code                                 \n",
       "Business Support Services    a0           0.041680 -0.037457  0.041801   \n",
       "Fishing                      a1           0.081487 -0.025844  0.041846   \n",
       "Agriculture Employment       a2           0.013775  0.001630  0.020510   \n",
       "Animal production            a3           0.080253  0.013234 -0.004848   \n",
       "Support activities of Mining a4           0.047889 -0.005247  0.007037   \n",
       "\n",
       "                                                 6         7         8  \\\n",
       "clas_a_title                 clas_a_code                                 \n",
       "Business Support Services    a0           0.055334  0.005141 -0.022281   \n",
       "Fishing                      a1           0.052490 -0.045384  0.019322   \n",
       "Agriculture Employment       a2           0.035688  0.008609  0.042362   \n",
       "Animal production            a3           0.049736 -0.008246 -0.018134   \n",
       "Support activities of Mining a4           0.041748 -0.031951  0.020205   \n",
       "\n",
       "                                                 9  ...       290       291  \\\n",
       "clas_a_title                 clas_a_code            ...                       \n",
       "Business Support Services    a0           0.001679  ...  0.030224  0.034443   \n",
       "Fishing                      a1          -0.050553  ... -0.040666 -0.004089   \n",
       "Agriculture Employment       a2           0.003880  ... -0.000912  0.053520   \n",
       "Animal production            a3           0.019848  ... -0.029893  0.039475   \n",
       "Support activities of Mining a4          -0.021872  ...  0.014639  0.013979   \n",
       "\n",
       "                                               292       293       294  \\\n",
       "clas_a_title                 clas_a_code                                 \n",
       "Business Support Services    a0          -0.018788  0.030350  0.011706   \n",
       "Fishing                      a1          -0.001307  0.025173 -0.010149   \n",
       "Agriculture Employment       a2          -0.024568  0.040491  0.054232   \n",
       "Animal production            a3          -0.038676  0.035650  0.064141   \n",
       "Support activities of Mining a4          -0.018705  0.036255  0.039297   \n",
       "\n",
       "                                               295       296       297  \\\n",
       "clas_a_title                 clas_a_code                                 \n",
       "Business Support Services    a0           0.009458  0.005382  0.043995   \n",
       "Fishing                      a1          -0.046725 -0.110870  0.111892   \n",
       "Agriculture Employment       a2          -0.031612 -0.000425  0.036069   \n",
       "Animal production            a3          -0.022897 -0.034500  0.088468   \n",
       "Support activities of Mining a4          -0.005247  0.022188  0.051874   \n",
       "\n",
       "                                               298       299  \n",
       "clas_a_title                 clas_a_code                      \n",
       "Business Support Services    a0          -0.007689  0.015419  \n",
       "Fishing                      a1          -0.013310 -0.068479  \n",
       "Agriculture Employment       a2           0.033190  0.009171  \n",
       "Animal production            a3           0.039201  0.015250  \n",
       "Support activities of Mining a4           0.015406  0.001576  \n",
       "\n",
       "[5 rows x 300 columns]"
      ]
     },
     "execution_count": 88,
     "metadata": {},
     "output_type": "execute_result"
    }
   ],
   "source": [
    "clas_a_vec = get_wv_df(clas_a, \"clas_a_title\")\n",
    "clas_a_vec.to_parquet(DATA / \"intermediate/clas_a_vec.parquet\", index=True)\n",
    "clas_a_vec.head()"
   ]
  },
  {
   "cell_type": "code",
   "execution_count": 89,
   "metadata": {},
   "outputs": [
    {
     "data": {
      "text/html": [
       "<div>\n",
       "<style scoped>\n",
       "    .dataframe tbody tr th:only-of-type {\n",
       "        vertical-align: middle;\n",
       "    }\n",
       "\n",
       "    .dataframe tbody tr th {\n",
       "        vertical-align: top;\n",
       "    }\n",
       "\n",
       "    .dataframe thead th {\n",
       "        text-align: right;\n",
       "    }\n",
       "</style>\n",
       "<table border=\"1\" class=\"dataframe\">\n",
       "  <thead>\n",
       "    <tr style=\"text-align: right;\">\n",
       "      <th></th>\n",
       "      <th>clas_b_code</th>\n",
       "      <th>clas_b_title</th>\n",
       "    </tr>\n",
       "  </thead>\n",
       "  <tbody>\n",
       "    <tr>\n",
       "      <th>0</th>\n",
       "      <td>1</td>\n",
       "      <td>Live animals</td>\n",
       "    </tr>\n",
       "    <tr>\n",
       "      <th>1</th>\n",
       "      <td>2</td>\n",
       "      <td>Meat</td>\n",
       "    </tr>\n",
       "    <tr>\n",
       "      <th>2</th>\n",
       "      <td>3</td>\n",
       "      <td>Fish</td>\n",
       "    </tr>\n",
       "    <tr>\n",
       "      <th>3</th>\n",
       "      <td>4</td>\n",
       "      <td>Diary products</td>\n",
       "    </tr>\n",
       "    <tr>\n",
       "      <th>4</th>\n",
       "      <td>5</td>\n",
       "      <td>Animal products</td>\n",
       "    </tr>\n",
       "  </tbody>\n",
       "</table>\n",
       "</div>"
      ],
      "text/plain": [
       "  clas_b_code     clas_b_title\n",
       "0           1     Live animals\n",
       "1           2             Meat\n",
       "2           3             Fish\n",
       "3           4   Diary products\n",
       "4           5  Animal products"
      ]
     },
     "execution_count": 89,
     "metadata": {},
     "output_type": "execute_result"
    }
   ],
   "source": [
    "clas_b_list = [\"HS2\", \"HS4\", \"NAICS2\", \"NAICS4\"]\n",
    "clas_b_dfs = [\n",
    "    pd.read_csv(DATA / f\"processed/clas_b_{x}.csv\", dtype=str) for x in clas_b_list\n",
    "]\n",
    "clas_b_dfs[0].head()"
   ]
  },
  {
   "cell_type": "code",
   "execution_count": 90,
   "metadata": {},
   "outputs": [
    {
     "name": "stderr",
     "output_type": "stream",
     "text": [
      "100%|██████████| 102/102 [00:00<00:00, 1244.78it/s]\n",
      "100%|██████████| 102/102 [00:00<00:00, 256.82it/s]\n",
      "100%|██████████| 1248/1248 [00:00<00:00, 2665.82it/s]\n",
      "100%|██████████| 1248/1248 [00:02<00:00, 417.67it/s]\n",
      "100%|██████████| 17/17 [00:00<00:00, 21574.33it/s]\n",
      "100%|██████████| 17/17 [00:00<00:00, 5092.72it/s]\n",
      "100%|██████████| 311/311 [00:00<00:00, 20159.94it/s]\n",
      "100%|██████████| 311/311 [00:00<00:00, 744.58it/s]\n"
     ]
    }
   ],
   "source": [
    "for clas_b, clas_b_type in zip(clas_b_dfs, clas_b_list):\n",
    "    clas_b_vec = get_wv_df(clas_b, \"clas_b_title\")\n",
    "    clas_b_vec.to_parquet(DATA / f\"intermediate/clas_b_vec_{clas_b_type}.parquet\", index=True)\n",
    "    clas_b_vec.head()"
   ]
  },
  {
   "cell_type": "code",
   "execution_count": null,
   "metadata": {},
   "outputs": [],
   "source": []
  }
 ],
 "metadata": {
  "kernelspec": {
   "display_name": "Python 3",
   "language": "python",
   "name": "python3"
  },
  "language_info": {
   "codemirror_mode": {
    "name": "ipython",
    "version": 3
   },
   "file_extension": ".py",
   "mimetype": "text/x-python",
   "name": "python",
   "nbconvert_exporter": "python",
   "pygments_lexer": "ipython3",
   "version": "3.8.5"
  }
 },
 "nbformat": 4,
 "nbformat_minor": 4
}
